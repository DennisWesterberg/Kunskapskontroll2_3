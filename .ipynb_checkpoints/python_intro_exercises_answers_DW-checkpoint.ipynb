{
 "cells": [
  {
   "cell_type": "markdown",
   "id": "f193e061",
   "metadata": {},
   "source": [
    "# Introduction to Python - Some general exercises\n",
    "The exercises are connected to the video available at: https://www.youtube.com/watch?v=M7bnYJyCx0Q \n",
    "\n",
    "The purpose is to \"warm up\" with Python. "
   ]
  },
  {
   "cell_type": "markdown",
   "id": "fca64927",
   "metadata": {},
   "source": [
    "### Add and multiply the two numbers below. "
   ]
  },
  {
   "cell_type": "code",
   "execution_count": 2,
   "id": "a904dc86",
   "metadata": {},
   "outputs": [],
   "source": [
    "nr1 = 5\n",
    "nr2 = 10"
   ]
  },
  {
   "cell_type": "code",
   "execution_count": 3,
   "id": "e6dbf0a8",
   "metadata": {},
   "outputs": [
    {
     "name": "stdout",
     "output_type": "stream",
     "text": [
      "15\n",
      "50\n"
     ]
    }
   ],
   "source": [
    "print(nr1 + nr2)\n",
    "print(nr1 * nr2)"
   ]
  },
  {
   "cell_type": "markdown",
   "id": "73a0e54d",
   "metadata": {},
   "source": [
    "# Lists"
   ]
  },
  {
   "cell_type": "markdown",
   "id": "acd427da",
   "metadata": {},
   "source": [
    "### Check if the first and last number is the same in each list respectively. So, we expect the answer True in list_1 and False in list_2."
   ]
  },
  {
   "cell_type": "code",
   "execution_count": null,
   "id": "191cc82d",
   "metadata": {},
   "outputs": [],
   "source": [
    "list_1 = [10, 20, 30, 40, 10]\n",
    "list_2 = [75, 65, 35, 75, 30]"
   ]
  },
  {
   "cell_type": "code",
   "execution_count": 5,
   "id": "3abe7838",
   "metadata": {},
   "outputs": [
    {
     "name": "stdout",
     "output_type": "stream",
     "text": [
      "List 1: True\n",
      "List 2: False\n"
     ]
    }
   ],
   "source": [
    "def check_first_last_equal(lst):\n",
    "    return lst[0] == lst[-1]\n",
    "\n",
    "list_1 = [10, 20, 30, 40, 10]\n",
    "list_2 = [75, 65, 35, 75, 30]\n",
    "\n",
    "result_1 = check_first_last_equal(list_1)\n",
    "result_2 = check_first_last_equal(list_2)\n",
    "\n",
    "print(\"List 1:\", result_1)  \n",
    "print(\"List 2:\", result_2)  "
   ]
  },
  {
   "cell_type": "markdown",
   "id": "54c58e8a",
   "metadata": {},
   "source": [
    "### Extract the following numbers with indexing or slicing:\n",
    "* The number 5 in the list within the list. \n",
    "* Extract the whole list [10, 12, 13, 5, 100].\n",
    "* Extract 12, 13, 5 in the list within the list\n",
    "* Extract the number 8888 with negative indexing.\n",
    "* Extract 1, 2, [10, 12, 13, 5, 100]."
   ]
  },
  {
   "cell_type": "code",
   "execution_count": 9,
   "id": "c12e313d",
   "metadata": {},
   "outputs": [],
   "source": [
    "list_containing_a_list = [1, 2, [10, 12, 13, 5, 100], 8888, 3, [1, 2, 3]]"
   ]
  },
  {
   "cell_type": "code",
   "execution_count": 11,
   "id": "7801b694",
   "metadata": {},
   "outputs": [
    {
     "name": "stdout",
     "output_type": "stream",
     "text": [
      "Number 5: 5\n",
      "Whole list: [10, 12, 13, 5, 100]\n",
      "Sublist 12, 13, 5: [12, 13, 5]\n",
      "Number 8888: [10, 12, 13, 5, 100]\n",
      "Subset 1, 2, [10, 12, 13, 5, 100]: [1, 2, [10, 12, 13, 5, 100]]\n"
     ]
    }
   ],
   "source": [
    "list_containing_a_list = [1, 2, [10, 12, 13, 5, 100], 8888, 3, [1, 2, 3]]\n",
    "\n",
    "number_5 = list_containing_a_list[2][3]\n",
    "\n",
    "whole_list = list_containing_a_list[2]\n",
    "\n",
    "sublist_12_13_5 = list_containing_a_list[2][1:4]\n",
    "\n",
    "number_8888 = list_containing_a_list[-4]\n",
    "\n",
    "subset = list_containing_a_list[:3]\n",
    "\n",
    "print(\"Number 5:\", number_5)\n",
    "print(\"Whole list:\", whole_list)\n",
    "print(\"Sublist 12, 13, 5:\", sublist_12_13_5)\n",
    "print(\"Number 8888:\", number_8888)\n",
    "print(\"Subset 1, 2, [10, 12, 13, 5, 100]:\", subset)\n"
   ]
  },
  {
   "cell_type": "markdown",
   "id": "b1a182b8-071e-4292-b3b7-3fba0d788294",
   "metadata": {},
   "source": [
    "# Tuples"
   ]
  },
  {
   "cell_type": "markdown",
   "id": "e3dbd7e3",
   "metadata": {},
   "source": [
    "### Explain with your own words what the code below containing two scenarios does. "
   ]
  },
  {
   "cell_type": "code",
   "execution_count": 32,
   "id": "9cd720b9",
   "metadata": {},
   "outputs": [
    {
     "name": "stdout",
     "output_type": "stream",
     "text": [
      "2\n",
      "4\n",
      "8\n",
      "16\n",
      "\n",
      "(3, 9, 27, 81)\n"
     ]
    },
    {
     "data": {
      "text/plain": [
       "(3, 9, 27, 81)"
      ]
     },
     "execution_count": 32,
     "metadata": {},
     "output_type": "execute_result"
    }
   ],
   "source": [
    "def f(x): \n",
    "    return (x, x**2, x**3, x**4)\n",
    "\n",
    "# Scenario 1.\n",
    "x1, x2, x3, x4 = f(2)\n",
    "print(x1)\n",
    "print(x2)\n",
    "print(x3)\n",
    "print(x4)\n",
    "\n",
    "print()\n",
    "\n",
    "# Scenario 2.\n",
    "x = f(3)\n",
    "print(x)\n",
    "\n",
    "#Funktionen f(x) tar ett tal, x, och skapar en samling av fyra värden:\n",
    "\n",
    "# Talet x\n",
    "#Talet x upphöjt till 2\n",
    "# Talet x upphöjt till 3\n",
    "# Talet x upphöjt till 4\n",
    "# Scenario 1\n",
    "# I Scenario 1 kallar vi på funktionen med talet 2. Den skapar då (2, 4, 8, 16). Varje värde lagras i en egen variabel: x1, x2, x3, och x4. Dessa skrivs ut en efter en:\n",
    "\n",
    "2\n",
    "4\n",
    "8\n",
    "16\n",
    "\n",
    "# Scenario 2\n",
    "# I Scenario 2 kallar vi på funktionen med talet 3. Den skapar (3, 9, 27, 81). Hela denna samling lagras i en variabel x och skrivs ut direkt som en enda grupp:\n",
    "\n",
    "\n",
    "(3, 9, 27, 81)\n",
    "\n",
    "# Sammanfattning\n",
    "# Funktionen f(x) tar ett tal och ger tillbaka det talet och dess upphöjningar i en samling (tupel), som du sedan kan använda som en helhet eller dela upp i flera variabler."
   ]
  },
  {
   "cell_type": "markdown",
   "id": "a1d0ad8c",
   "metadata": {},
   "source": [
    "### Count the number of times 24 occurs in the tupple. "
   ]
  },
  {
   "cell_type": "code",
   "execution_count": null,
   "id": "da5e6047",
   "metadata": {},
   "outputs": [],
   "source": [
    "tuple_22 = 24, 2, 4, 24, 24, 5"
   ]
  },
  {
   "cell_type": "code",
   "execution_count": 14,
   "id": "818a5471",
   "metadata": {},
   "outputs": [
    {
     "name": "stdout",
     "output_type": "stream",
     "text": [
      "3\n"
     ]
    }
   ],
   "source": [
    "\n",
    "tuple_22 = (24, 2, 4, 24, 24, 5)\n",
    "\n",
    "\n",
    "count_24 = tuple_22.count(24)\n",
    "\n",
    "\n",
    "print(count_24)\n"
   ]
  },
  {
   "cell_type": "markdown",
   "id": "b0811549-3f61-486c-ae80-b56cd2b142f9",
   "metadata": {},
   "source": [
    "# Sets"
   ]
  },
  {
   "cell_type": "markdown",
   "id": "a7b6740f",
   "metadata": {},
   "source": [
    "### Find all the items that are in *both* lists and return those values in a list. "
   ]
  },
  {
   "cell_type": "code",
   "execution_count": null,
   "id": "9a81165c",
   "metadata": {},
   "outputs": [],
   "source": [
    "l1 = ['Python', 'R', 'MATLAB', 'Julia']\n",
    "l2 = ['Python', 'Julia']"
   ]
  },
  {
   "cell_type": "code",
   "execution_count": 15,
   "id": "555feeef",
   "metadata": {},
   "outputs": [
    {
     "name": "stdout",
     "output_type": "stream",
     "text": [
      "['Julia', 'Python']\n"
     ]
    }
   ],
   "source": [
    "l1 = ['Python', 'R', 'MATLAB', 'Julia']\n",
    "l2 = ['Python', 'Julia']\n",
    "\n",
    "common_items = list(set(l1) & set(l2))\n",
    "\n",
    "print(common_items)"
   ]
  },
  {
   "cell_type": "markdown",
   "id": "8a79680b",
   "metadata": {},
   "source": [
    "### Find all the unique elements of the list. "
   ]
  },
  {
   "cell_type": "code",
   "execution_count": null,
   "id": "b3564d41",
   "metadata": {},
   "outputs": [],
   "source": [
    "l = [1, 1, 2, 2, 3, 1, 2]"
   ]
  },
  {
   "cell_type": "code",
   "execution_count": 16,
   "id": "ed1ef5e2",
   "metadata": {},
   "outputs": [
    {
     "name": "stdout",
     "output_type": "stream",
     "text": [
      "[1, 2, 3]\n"
     ]
    }
   ],
   "source": [
    "l = [1, 1, 2, 2, 3, 1, 2]\n",
    "\n",
    "unique_elements = list(set(l))\n",
    "\n",
    "print(unique_elements)"
   ]
  },
  {
   "cell_type": "markdown",
   "id": "38863120",
   "metadata": {},
   "source": [
    "# Iteration & Loops"
   ]
  },
  {
   "cell_type": "markdown",
   "id": "8e6bf0e5",
   "metadata": {},
   "source": [
    "### Print out all the elements in the list \"looping_list\" with a for loop."
   ]
  },
  {
   "cell_type": "code",
   "execution_count": null,
   "id": "69039249",
   "metadata": {},
   "outputs": [],
   "source": [
    "looping_list = [0, 'a', 'b', [1, 2, 3], ('Python', 'R'), 55]"
   ]
  },
  {
   "cell_type": "code",
   "execution_count": 17,
   "id": "2e0c7dec",
   "metadata": {},
   "outputs": [
    {
     "name": "stdout",
     "output_type": "stream",
     "text": [
      "0\n",
      "a\n",
      "b\n",
      "[1, 2, 3]\n",
      "('Python', 'R')\n",
      "55\n"
     ]
    }
   ],
   "source": [
    "looping_list = [0, 'a', 'b', [1, 2, 3], ('Python', 'R'), 55]\n",
    "\n",
    "for item in looping_list:\n",
    "    print(item)"
   ]
  },
  {
   "cell_type": "markdown",
   "id": "296e1f3a",
   "metadata": {},
   "source": [
    "### Write a for loop to print out each letter in the string. "
   ]
  },
  {
   "cell_type": "code",
   "execution_count": null,
   "id": "e3aae8b8",
   "metadata": {},
   "outputs": [],
   "source": [
    "for_string = 'Python!'"
   ]
  },
  {
   "cell_type": "code",
   "execution_count": 18,
   "id": "339911b9",
   "metadata": {},
   "outputs": [
    {
     "name": "stdout",
     "output_type": "stream",
     "text": [
      "P\n",
      "y\n",
      "t\n",
      "h\n",
      "o\n",
      "n\n",
      "!\n"
     ]
    }
   ],
   "source": [
    "for_string = 'Python!'\n",
    "\n",
    "for letter in for_string:\n",
    "    print(letter)"
   ]
  },
  {
   "cell_type": "markdown",
   "id": "38122cd9",
   "metadata": {},
   "source": [
    "### Print out all numbers that are divisible by 5 in the list \"numbers\". \n",
    "Hint: Use the modulo operator %. A number is divisible by 5 if the remainder after dividing by 5 is 0. "
   ]
  },
  {
   "cell_type": "code",
   "execution_count": null,
   "id": "4a77126f",
   "metadata": {},
   "outputs": [],
   "source": [
    "numbers = [10, 20, 34, 46, 55]"
   ]
  },
  {
   "cell_type": "code",
   "execution_count": 19,
   "id": "63913f9b",
   "metadata": {},
   "outputs": [
    {
     "name": "stdout",
     "output_type": "stream",
     "text": [
      "10\n",
      "20\n",
      "55\n"
     ]
    }
   ],
   "source": [
    "numbers = [10, 20, 34, 46, 55]\n",
    "\n",
    "for number in numbers:\n",
    "    if number % 5 == 0:\n",
    "        print(number)"
   ]
  },
  {
   "cell_type": "markdown",
   "id": "73fc584a",
   "metadata": {},
   "source": [
    "# Functions"
   ]
  },
  {
   "cell_type": "markdown",
   "id": "9103f538",
   "metadata": {},
   "source": [
    "### Create a function that accepts two arguments and that returns the sum and subtraction of the numbers. "
   ]
  },
  {
   "cell_type": "code",
   "execution_count": 22,
   "id": "6475dc5a",
   "metadata": {},
   "outputs": [
    {
     "name": "stdout",
     "output_type": "stream",
     "text": [
      "Sum: 15\n",
      "Subtraction: 5\n"
     ]
    }
   ],
   "source": [
    "def sum_and_subtract(a, b):\n",
    "    summation = a + b\n",
    "    subtraction = a - b\n",
    "    return summation, subtraction\n",
    "\n",
    "result_sum, result_subtract = sum_and_subtract(10, 5)\n",
    "print(\"Sum:\", result_sum)\n",
    "print(\"Subtraction:\", result_subtract)"
   ]
  },
  {
   "cell_type": "markdown",
   "id": "12e8be7b",
   "metadata": {},
   "source": [
    "### Write a function f that takes three arguments. The first two are numbers whereas the third is specifying wheter you want to multiply or add them. \n",
    "Example: \n",
    "\n",
    "f(2, 5, 'add') = 7\n",
    "\n",
    "f(2, 5, 'multiply') = 10\n",
    "\n",
    "f(2, 5, 'test') should return an error (raise an exception) and print out the message: Choose either \"add\" or \"multiply\" ."
   ]
  },
  {
   "cell_type": "code",
   "execution_count": 26,
   "id": "8ef8102e",
   "metadata": {},
   "outputs": [
    {
     "name": "stdout",
     "output_type": "stream",
     "text": [
      "7\n",
      "10\n",
      "Choose either \"add\" or \"multiply\"\n"
     ]
    }
   ],
   "source": [
    "def f(a, b, operation):\n",
    "    if operation == 'add':\n",
    "        return a + b\n",
    "    elif operation == 'multiply':\n",
    "        return a * b\n",
    "    else:\n",
    "        raise ValueError('Choose either \"add\" or \"multiply\"')\n",
    "\n",
    "try:\n",
    "    print(f(2, 5, 'add'))\n",
    "    print(f(2, 5, 'multiply'))\n",
    "    print(f(2, 5, 'test'))\n",
    "except ValueError as e:\n",
    "    print(e)\n"
   ]
  },
  {
   "cell_type": "markdown",
   "id": "7d7d35c1",
   "metadata": {},
   "source": [
    "# General Exercises"
   ]
  },
  {
   "cell_type": "markdown",
   "id": "d8b71cd7",
   "metadata": {},
   "source": [
    "### Explain, with your own words, the difference between the two code blocks below. When would you prefer the respective method? Can you create two own examples when each method might be useful?\n",
    "A good link: https://stackoverflow.com/questions/9271712/difference-between-multiple-ifs-and-elifs ."
   ]
  },
  {
   "cell_type": "code",
   "execution_count": null,
   "id": "1fe19154",
   "metadata": {},
   "outputs": [],
   "source": [
    "number = 8"
   ]
  },
  {
   "cell_type": "code",
   "execution_count": null,
   "id": "54b25f3b",
   "metadata": {},
   "outputs": [],
   "source": [
    "if number < 5:\n",
    "    print('Less than 5')\n",
    "if number < 10:\n",
    "    print('Less than 10')\n",
    "if number < 100:\n",
    "    print('Less than 100')"
   ]
  },
  {
   "cell_type": "code",
   "execution_count": null,
   "id": "57e56cef",
   "metadata": {},
   "outputs": [],
   "source": [
    "if number < 5:\n",
    "    print('Less than 5')\n",
    "elif number < 10:\n",
    "    print('Less than 10')\n",
    "elif number < 100:\n",
    "    print('Less than 100')"
   ]
  },
  {
   "cell_type": "code",
   "execution_count": 31,
   "id": "22a9be99",
   "metadata": {},
   "outputs": [
    {
     "name": "stdout",
     "output_type": "stream",
     "text": [
      "Less than 10\n",
      "Less than 100\n",
      "Less than 10\n"
     ]
    }
   ],
   "source": [
    "# Första metoden: Varje villkor utvärderas oberoende, vilket gör att flera utskrifter kan ske\n",
    "\n",
    "# Andra metoden: Endast det första sanna villkoret körs, resten ignoreras\n",
    "\n",
    "\n",
    "# Första metoden: När du vill informera användaren om alla gränser ett nummer underskrider.\n",
    "number = 8\n",
    "if number < 5:\n",
    "    print('Less than 5')\n",
    "if number < 10:\n",
    "    print('Less than 10')\n",
    "if number < 100:\n",
    "    print('Less than 100')\n",
    "# Output: 'Less than 10' och 'Less than 100'\n",
    "\n",
    "# Andra metoden: När du vill stoppa vid första relevanta meddelandet för en viss kategori.\n",
    "number = 8\n",
    "if number < 5:\n",
    "    print('Less than 5')\n",
    "elif number < 10:\n",
    "    print('Less than 10')\n",
    "elif number < 100:\n",
    "    print('Less than 100')\n",
    "# Output: 'Less than 10'"
   ]
  }
 ],
 "metadata": {
  "kernelspec": {
   "display_name": "Python 3 (ipykernel)",
   "language": "python",
   "name": "python3"
  },
  "language_info": {
   "codemirror_mode": {
    "name": "ipython",
    "version": 3
   },
   "file_extension": ".py",
   "mimetype": "text/x-python",
   "name": "python",
   "nbconvert_exporter": "python",
   "pygments_lexer": "ipython3",
   "version": "3.13.0"
  }
 },
 "nbformat": 4,
 "nbformat_minor": 5
}
