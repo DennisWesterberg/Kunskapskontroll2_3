{
 "cells": [
  {
   "cell_type": "markdown",
   "id": "dacf74e6",
   "metadata": {},
   "source": [
    "# NumPy"
   ]
  },
  {
   "cell_type": "markdown",
   "id": "01b2bf34",
   "metadata": {},
   "source": [
    "Read the links: https://numpy.org/doc/stable/user/quickstart.html  and https://numpy.org/doc/stable/user/basics.broadcasting.html  before solving the exercises. "
   ]
  },
  {
   "cell_type": "code",
   "execution_count": 45,
   "id": "1f79e4a6",
   "metadata": {},
   "outputs": [],
   "source": [
    "import numpy as np"
   ]
  },
  {
   "cell_type": "markdown",
   "id": "7dae6889",
   "metadata": {},
   "source": [
    "### Print out the dimension (number of axes), shape, size and the datatype of the matrix A."
   ]
  },
  {
   "cell_type": "code",
   "execution_count": 48,
   "id": "7b3678cd",
   "metadata": {},
   "outputs": [],
   "source": [
    "A = np.arange(1, 16).reshape(3,5)"
   ]
  },
  {
   "cell_type": "code",
   "execution_count": 50,
   "id": "31d39235",
   "metadata": {},
   "outputs": [
    {
     "name": "stdout",
     "output_type": "stream",
     "text": [
      "Dimension (number of axes): 2\n",
      "Shape (form): (3, 5)\n",
      "Size (number of elements): 15\n",
      "Datatype (data type): int64\n"
     ]
    }
   ],
   "source": [
    "# Print information about the matrix A\n",
    "print(\"Dimension (number of axes):\", A.ndim)       # Prints the number of dimensions (axes) of the matrix\n",
    "print(\"Shape (form):\", A.shape)                   # Prints the shape of the matrix as (rows, columns)\n",
    "print(\"Size (number of elements):\", A.size)       # Prints the total number of elements in the matrix\n",
    "print(\"Datatype (data type):\", A.dtype)           # Prints the data type of the elements in the matrix\n"
   ]
  },
  {
   "cell_type": "markdown",
   "id": "e56d2a96",
   "metadata": {},
   "source": [
    "### Do the following computations on the matrices B and C: \n",
    "* Elementwise subtraction. \n",
    "* Elementwise multiplication. \n",
    "* Matrix multiplication (by default you should use the @ operator)."
   ]
  },
  {
   "cell_type": "code",
   "execution_count": 53,
   "id": "a7053fbb",
   "metadata": {},
   "outputs": [
    {
     "name": "stdout",
     "output_type": "stream",
     "text": [
      "[[1 2 3]\n",
      " [4 5 6]\n",
      " [7 8 9]]\n",
      "\n",
      "[[2. 2. 2.]\n",
      " [2. 2. 2.]\n",
      " [2. 2. 2.]]\n"
     ]
    }
   ],
   "source": [
    "B = np.arange(1, 10).reshape(3, 3)\n",
    "C = np.ones((3, 3))*2\n",
    "\n",
    "print(B)\n",
    "print()\n",
    "print(C)"
   ]
  },
  {
   "cell_type": "code",
   "execution_count": 55,
   "id": "3cd794ae",
   "metadata": {},
   "outputs": [
    {
     "name": "stdout",
     "output_type": "stream",
     "text": [
      "\n",
      "Elementwise subtraction:\n",
      "[[-1.  0.  1.]\n",
      " [ 2.  3.  4.]\n",
      " [ 5.  6.  7.]]\n",
      "\n",
      "Elementwise multiplication:\n",
      "[[ 2.  4.  6.]\n",
      " [ 8. 10. 12.]\n",
      " [14. 16. 18.]]\n",
      "\n",
      "Matrix multiplication:\n",
      "[[12. 12. 12.]\n",
      " [30. 30. 30.]\n",
      " [48. 48. 48.]]\n"
     ]
    }
   ],
   "source": [
    "# Elementwise subtraction\n",
    "subtraction = B - C\n",
    "print(\"\\nElementwise subtraction:\")\n",
    "print(subtraction)\n",
    "\n",
    "# Elementwise multiplication\n",
    "elementwise_multiplication = B * C\n",
    "print(\"\\nElementwise multiplication:\")\n",
    "print(elementwise_multiplication)\n",
    "\n",
    "# Matrix multiplication\n",
    "matrix_multiplication = B @ C\n",
    "print(\"\\nMatrix multiplication:\")\n",
    "print(matrix_multiplication)"
   ]
  },
  {
   "cell_type": "markdown",
   "id": "96030d53",
   "metadata": {},
   "source": [
    "### Do the following calculations on the matrix:\n",
    "* Exponentiate each number elementwise (use the np.exp function).\n",
    "\n",
    "* Calculate the minimum value in the whole matrix. \n",
    "* Calculcate the minimum value in each row. \n",
    "* Calculcate the minimum value in each column. \n",
    "\n",
    "\n",
    "* Find the index value for the minimum value in the whole matrix (hint: use np.argmin).\n",
    "* Find the index value for the minimum value in each row (hint: use np.argmin).\n",
    "\n",
    "\n",
    "* Calculate the sum for all elements.\n",
    "* Calculate the mean for each column. \n",
    "* Calculate the median for each column. "
   ]
  },
  {
   "cell_type": "code",
   "execution_count": 58,
   "id": "f8a9166b",
   "metadata": {},
   "outputs": [
    {
     "name": "stdout",
     "output_type": "stream",
     "text": [
      "[[1 2 3]\n",
      " [4 5 6]\n",
      " [7 8 9]]\n"
     ]
    }
   ],
   "source": [
    "B = np.arange(1, 10).reshape(3, 3)\n",
    "print(B)"
   ]
  },
  {
   "cell_type": "code",
   "execution_count": 60,
   "id": "f03f24f7",
   "metadata": {},
   "outputs": [
    {
     "name": "stdout",
     "output_type": "stream",
     "text": [
      "\n",
      "Exponentiate each element (np.exp):\n",
      "[[2.71828183e+00 7.38905610e+00 2.00855369e+01]\n",
      " [5.45981500e+01 1.48413159e+02 4.03428793e+02]\n",
      " [1.09663316e+03 2.98095799e+03 8.10308393e+03]]\n",
      "\n",
      "Minimum value in the whole matrix:\n",
      "1\n",
      "\n",
      "Minimum value in each row:\n",
      "[1 4 7]\n",
      "\n",
      "Minimum value in each column:\n",
      "[1 2 3]\n",
      "\n",
      "Index of the minimum value in the whole matrix:\n",
      "0\n",
      "\n",
      "Index of the minimum value in each row:\n",
      "[0 0 0]\n",
      "\n",
      "Sum of all elements:\n",
      "45\n",
      "\n",
      "Mean for each column:\n",
      "[4. 5. 6.]\n",
      "\n",
      "Median for each column:\n",
      "[4. 5. 6.]\n"
     ]
    }
   ],
   "source": [
    "# Exponentiate each number elementwise\n",
    "exp_matrix = np.exp(B)\n",
    "print(\"\\nExponentiate each element (np.exp):\")\n",
    "print(exp_matrix)\n",
    "\n",
    "# Calculate the minimum value in the whole matrix\n",
    "min_value = np.min(B)\n",
    "print(\"\\nMinimum value in the whole matrix:\")\n",
    "print(min_value)\n",
    "\n",
    "# Calculate the minimum value in each row\n",
    "min_in_rows = np.min(B, axis=1)\n",
    "print(\"\\nMinimum value in each row:\")\n",
    "print(min_in_rows)\n",
    "\n",
    "# Calculate the minimum value in each column\n",
    "min_in_columns = np.min(B, axis=0)\n",
    "print(\"\\nMinimum value in each column:\")\n",
    "print(min_in_columns)\n",
    "\n",
    "# Find the index value for the minimum value in the whole matrix\n",
    "min_index = np.argmin(B)\n",
    "print(\"\\nIndex of the minimum value in the whole matrix:\")\n",
    "print(min_index)\n",
    "\n",
    "# Find the index value for the minimum value in each row\n",
    "min_index_rows = np.argmin(B, axis=1)\n",
    "print(\"\\nIndex of the minimum value in each row:\")\n",
    "print(min_index_rows)\n",
    "\n",
    "# Calculate the sum for all elements\n",
    "sum_elements = np.sum(B)\n",
    "print(\"\\nSum of all elements:\")\n",
    "print(sum_elements)\n",
    "\n",
    "# Calculate the mean for each column\n",
    "mean_columns = np.mean(B, axis=0)\n",
    "print(\"\\nMean for each column:\")\n",
    "print(mean_columns)\n",
    "\n",
    "# Calculate the median for each column\n",
    "median_columns = np.median(B, axis=0)\n",
    "print(\"\\nMedian for each column:\")\n",
    "print(median_columns)"
   ]
  },
  {
   "cell_type": "markdown",
   "id": "541eb7ba",
   "metadata": {},
   "source": [
    "### What does it mean when you provide fewer indices than axes when slicing? See example below."
   ]
  },
  {
   "cell_type": "code",
   "execution_count": 63,
   "id": "9c8abf56",
   "metadata": {},
   "outputs": [
    {
     "name": "stdout",
     "output_type": "stream",
     "text": [
      "[[ 1  2  3  4  5]\n",
      " [ 6  7  8  9 10]\n",
      " [11 12 13 14 15]]\n"
     ]
    }
   ],
   "source": [
    "print(A)"
   ]
  },
  {
   "cell_type": "code",
   "execution_count": 65,
   "id": "69415f7b",
   "metadata": {},
   "outputs": [
    {
     "data": {
      "text/plain": [
       "array([ 6,  7,  8,  9, 10])"
      ]
     },
     "execution_count": 65,
     "metadata": {},
     "output_type": "execute_result"
    }
   ],
   "source": [
    "A[1]"
   ]
  },
  {
   "cell_type": "markdown",
   "id": "6c53541b",
   "metadata": {},
   "source": [
    "**Answer:**"
   ]
  },
  {
   "cell_type": "code",
   "execution_count": 70,
   "id": "de01e120",
   "metadata": {},
   "outputs": [],
   "source": [
    "# When you provide fewer indices than axes while slicing, NumPy assumes the missing indices correspond to selecting all elements along the remaining axes."
   ]
  },
  {
   "cell_type": "markdown",
   "id": "6652d0c9",
   "metadata": {},
   "source": [
    "### Iterating over multidimensional arrays is done with respect to the first axis, so in the example below we iterate trough the rows. If you would like to iterate through the array *elementwise*, how would you do that?"
   ]
  },
  {
   "cell_type": "code",
   "execution_count": 73,
   "id": "9459864f",
   "metadata": {},
   "outputs": [
    {
     "data": {
      "text/plain": [
       "array([[ 1,  2,  3,  4,  5],\n",
       "       [ 6,  7,  8,  9, 10],\n",
       "       [11, 12, 13, 14, 15]])"
      ]
     },
     "execution_count": 73,
     "metadata": {},
     "output_type": "execute_result"
    }
   ],
   "source": [
    "A"
   ]
  },
  {
   "cell_type": "code",
   "execution_count": 75,
   "id": "a671bb5a",
   "metadata": {},
   "outputs": [
    {
     "name": "stdout",
     "output_type": "stream",
     "text": [
      "[1 2 3 4 5]\n",
      "[ 6  7  8  9 10]\n",
      "[11 12 13 14 15]\n"
     ]
    }
   ],
   "source": [
    "for i in A:\n",
    "    print(i)"
   ]
  },
  {
   "cell_type": "code",
   "execution_count": 77,
   "id": "f4e443a0",
   "metadata": {},
   "outputs": [
    {
     "name": "stdout",
     "output_type": "stream",
     "text": [
      "1\n",
      "2\n",
      "3\n",
      "4\n",
      "5\n",
      "6\n",
      "7\n",
      "8\n",
      "9\n",
      "10\n",
      "11\n",
      "12\n",
      "13\n",
      "14\n",
      "15\n"
     ]
    }
   ],
   "source": [
    "# Iterating elementwise\n",
    "for i in A.flat:\n",
    "    print(i)\n"
   ]
  },
  {
   "cell_type": "markdown",
   "id": "608a2583",
   "metadata": {},
   "source": [
    "### Explain what the code below does. More specifically, b has three axes - what does this mean? "
   ]
  },
  {
   "cell_type": "code",
   "execution_count": null,
   "id": "f8f9b26f",
   "metadata": {},
   "outputs": [],
   "source": [
    "a = np.arange(30)\n",
    "b = a.reshape((2, 3, -1))\n",
    "print(a)\n",
    "print()\n",
    "\n",
    "print(b)"
   ]
  },
  {
   "cell_type": "code",
   "execution_count": null,
   "id": "863a45df",
   "metadata": {},
   "outputs": [],
   "source": [
    "#Axis0 (outermost): Represents the number of blocks in the array.\n",
    "#Axis1 (middle): Represents the rows within each block.\n",
    "#Axis2 (innermost): Represents the elements (or columns) within each row."
   ]
  },
  {
   "cell_type": "code",
   "execution_count": null,
   "id": "eed38bbb-dd20-4d23-837f-679aa3d3a067",
   "metadata": {},
   "outputs": [],
   "source": []
  },
  {
   "cell_type": "markdown",
   "id": "421c9607-819a-401d-949a-97424436fe29",
   "metadata": {},
   "source": [
    "# For the exercises below, read the document *\"matematik_yh_antonio_vektorer_matriser_utdrag\"*\n",
    "# Solutions to the exercises and recorded videos can be found here: https://github.com/AntonioPrgomet/matematik_foer_yh\n",
    "\n",
    "# If you find the exercises below very hard, do not worry. Try your best, that will be enough. "
   ]
  },
  {
   "cell_type": "markdown",
   "id": "ab5933d5",
   "metadata": {},
   "source": [
    "### Broadcasting\n",
    "**Read the following link about broadcasting: https://numpy.org/doc/stable/user/basics.broadcasting.html#basics-broadcasting**"
   ]
  },
  {
   "cell_type": "markdown",
   "id": "039805ba",
   "metadata": {},
   "source": [
    "# Remark on Broadcasting when doing Linear Algebra calculations in Python. "
   ]
  },
  {
   "cell_type": "markdown",
   "id": "c4bcc147",
   "metadata": {},
   "source": [
    "### From the mathematical rules of matrix addition, the operation below (m1 + m2) does not make sense. The reason is that matrix addition requires two matrices of the same size. In Python however, it works due to broadcasting rules in NumPy. So you must be careful when doing Linear Algebra calculations in Python since they do not follow the \"mathematical rules\". This can however easily be handled by doing some simple programming, for example validating that two matrices have the same shape is easy if you for instance want to add two matrices. "
   ]
  },
  {
   "cell_type": "code",
   "execution_count": null,
   "id": "1fd46778",
   "metadata": {},
   "outputs": [],
   "source": [
    "m1 = np.array([[1, 2], [3, 4]])\n",
    "m2 = np.array([1, 1])\n",
    "print(m1 + m2)"
   ]
  },
  {
   "cell_type": "markdown",
   "id": "047d6576",
   "metadata": {},
   "source": [
    "### The example below would also not be allowed if following the \"mathematical rules\" in Linear Algebra. But it works due to broadcasting in NumPy. "
   ]
  },
  {
   "cell_type": "code",
   "execution_count": null,
   "id": "5e6ef2e4",
   "metadata": {},
   "outputs": [],
   "source": [
    "v1 = np.array([1, 2, 3])\n",
    "print(v1 + 1)"
   ]
  },
  {
   "cell_type": "code",
   "execution_count": null,
   "id": "e2cbae26",
   "metadata": {},
   "outputs": [],
   "source": [
    "A = np.arange(1, 5).reshape(2,2)\n",
    "print(A)\n",
    "\n",
    "b = np.array([2, 2])\n",
    "print(b)"
   ]
  },
  {
   "cell_type": "markdown",
   "id": "722fd5cd",
   "metadata": {},
   "source": [
    "# Vector- and matrix algebra Exercises"
   ]
  },
  {
   "cell_type": "markdown",
   "id": "b63a3081-d976-4d9f-bfd0-a63917e79f7d",
   "metadata": {},
   "source": [
    "**Now you are going to create a function that can be reused every time you add or multiply matrices. The function is created so that we do the addition and multiplication according to the rules of vector- and matrix algebra.**\n",
    "\n",
    "**Create a function \"add_mult_matrices\" that takes two matrices as input arguments (validate that the input are of the type numpy.ndarray by using the isinstance function), a third argument that is either 'add' or 'multiply' that specifies if you want to add or multiply the matrices (validate that the third argument is either 'add' or 'multiply'). When doing matrix addition, validate that the matrices have the same size. When doing matrix multiplication, validate that the sizes conform (i.e. number of columns in the first matrix is equal to the number of rows in the second matrix).**"
   ]
  },
  {
   "cell_type": "code",
   "execution_count": 79,
   "id": "3506f977-ac0a-473f-85bc-eec9f35dc498",
   "metadata": {},
   "outputs": [
    {
     "name": "stdout",
     "output_type": "stream",
     "text": [
      "Addition:\n",
      "[[ 6  8]\n",
      " [10 12]]\n",
      "Multiplication:\n",
      "[[ 58  64]\n",
      " [139 154]]\n"
     ]
    }
   ],
   "source": [
    "import numpy as np\n",
    "\n",
    "def add_mult_matrices(matrix1, matrix2, operation):\n",
    "    \"\"\"\n",
    "    Performs addition or multiplication on two matrices according to the rules of vector- and matrix algebra.\n",
    "    \n",
    "    Args:\n",
    "        matrix1 (numpy.ndarray): The first matrix.\n",
    "        matrix2 (numpy.ndarray): The second matrix.\n",
    "        operation (str): The operation to perform ('add' or 'multiply').\n",
    "    \n",
    "    Returns:\n",
    "        numpy.ndarray: The resulting matrix after addition or multiplication.\n",
    "    \n",
    "    Raises:\n",
    "        ValueError: If inputs are not numpy arrays, operation is invalid, or matrix dimensions do not conform.\n",
    "    \"\"\"\n",
    "    # Validate input types\n",
    "    if not isinstance(matrix1, np.ndarray) or not isinstance(matrix2, np.ndarray):\n",
    "        raise ValueError(\"Both inputs must be of type numpy.ndarray\")\n",
    "    \n",
    "    # Validate operation\n",
    "    if operation not in ['add', 'multiply']:\n",
    "        raise ValueError(\"Operation must be 'add' or 'multiply'\")\n",
    "    \n",
    "    if operation == 'add':\n",
    "        # Validate matrix sizes for addition\n",
    "        if matrix1.shape != matrix2.shape:\n",
    "            raise ValueError(\"Matrices must have the same shape for addition\")\n",
    "        # Perform matrix addition\n",
    "        return matrix1 + matrix2\n",
    "    \n",
    "    elif operation == 'multiply':\n",
    "        # Validate matrix dimensions for multiplication\n",
    "        if matrix1.shape[1] != matrix2.shape[0]:\n",
    "            raise ValueError(\"Number of columns in the first matrix must equal the number of rows in the second matrix for multiplication\")\n",
    "        # Perform matrix multiplication\n",
    "        return np.dot(matrix1, matrix2)\n",
    "\n",
    "# Example usage:\n",
    "m1 = np.array([[1, 2], [3, 4]])\n",
    "m2 = np.array([[5, 6], [7, 8]])\n",
    "print(\"Addition:\")\n",
    "print(add_mult_matrices(m1, m2, 'add'))\n",
    "\n",
    "m3 = np.array([[1, 2, 3], [4, 5, 6]])\n",
    "m4 = np.array([[7, 8], [9, 10], [11, 12]])\n",
    "print(\"Multiplication:\")\n",
    "print(add_mult_matrices(m3, m4, 'multiply'))\n"
   ]
  },
  {
   "cell_type": "markdown",
   "id": "8dad82d0-2359-4dff-8f5b-a57d3e34103c",
   "metadata": {},
   "source": [
    "### Solve all the exercises in chapter 10.1 in the book \"Matematik för yrkeshögskolan\". "
   ]
  },
  {
   "cell_type": "code",
   "execution_count": null,
   "id": "89df88af-3668-4d98-a0a4-e6d92eea0f89",
   "metadata": {},
   "outputs": [],
   "source": []
  },
  {
   "cell_type": "markdown",
   "id": "75c98984-1f88-4df1-b850-d2466de444a5",
   "metadata": {},
   "source": [
    "### Solve all the exercises, except 10.2.4, in chapter 10.2 in the book \"Matematik för yrkeshögskolan\". "
   ]
  },
  {
   "cell_type": "code",
   "execution_count": null,
   "id": "65371610-16e1-48b2-b7fb-65e49002608a",
   "metadata": {},
   "outputs": [],
   "source": []
  },
  {
   "cell_type": "markdown",
   "id": "6a4a524f",
   "metadata": {},
   "source": [
    "### Copies and Views\n",
    "Read the following link: https://numpy.org/doc/stable/user/basics.copies.html"
   ]
  },
  {
   "cell_type": "markdown",
   "id": "6cbbeaf7",
   "metadata": {},
   "source": [
    "**Basic indexing creates a view, How can you check if v1 and v2 is a view or copy? If you change the last element in v2 to 123, will the last element in v1 be changed? Why?**"
   ]
  },
  {
   "cell_type": "code",
   "execution_count": null,
   "id": "5b9ef4df",
   "metadata": {},
   "outputs": [],
   "source": [
    "v1 = np.arange(4)\n",
    "v2 = v1[-2:]\n",
    "print(v1)\n",
    "print(v2)"
   ]
  },
  {
   "cell_type": "code",
   "execution_count": null,
   "id": "d2440489",
   "metadata": {},
   "outputs": [],
   "source": [
    "# The base attribute of a view returns the original array while it returns None for a copy.\n",
    "print(v1.base)\n",
    "print(v2.base)"
   ]
  },
  {
   "cell_type": "code",
   "execution_count": null,
   "id": "c8752807",
   "metadata": {},
   "outputs": [],
   "source": [
    "# The last element in v1 will be changed aswell since v2 is a view, meaning they share the same data buffer.\n",
    "v2[-1] = 123\n",
    "print(v1)\n",
    "print(v2)"
   ]
  },
  {
   "cell_type": "code",
   "execution_count": 81,
   "id": "3dd68221",
   "metadata": {},
   "outputs": [
    {
     "name": "stdout",
     "output_type": "stream",
     "text": [
      "Object `copy` not found.\n"
     ]
    }
   ],
   "source": [
    "# You can check if v1 and v2 are a view or a copy by using the .base attribute:\n",
    "\n",
    "# If .base is None, it's a copy.\n",
    "# If .base points to the original array, it's a view.\n",
    "# If you change the last element in v2 to 123, the last element in v1 will also be changed because v2 is a view, meaning they share the same data buffer."
   ]
  },
  {
   "cell_type": "code",
   "execution_count": null,
   "id": "6253e6f4-6058-46e6-9311-5ffe371f9626",
   "metadata": {},
   "outputs": [],
   "source": []
  }
 ],
 "metadata": {
  "kernelspec": {
   "display_name": "Python 3 (ipykernel)",
   "language": "python",
   "name": "python3"
  },
  "language_info": {
   "codemirror_mode": {
    "name": "ipython",
    "version": 3
   },
   "file_extension": ".py",
   "mimetype": "text/x-python",
   "name": "python",
   "nbconvert_exporter": "python",
   "pygments_lexer": "ipython3",
   "version": "3.12.4"
  }
 },
 "nbformat": 4,
 "nbformat_minor": 5
}
